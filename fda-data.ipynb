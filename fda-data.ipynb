{
 "cells": [
  {
   "cell_type": "code",
   "execution_count": 1,
   "metadata": {},
   "outputs": [
    {
     "data": {
      "text/html": [
       "<style>.container { width:100% !important; }</style>"
      ],
      "text/plain": [
       "<IPython.core.display.HTML object>"
      ]
     },
     "metadata": {},
     "output_type": "display_data"
    }
   ],
   "source": [
    "%run ~/L8733/src/pro/par/pyt/magic/fullScreen.py     # screen\n",
    "%run ~/L8733/src/pro/par/pyt/magic/darkReader.py     # plot ticks\n",
    "%run ~/L8733/src/pro/par/pyt/magic/fGetModuleType.py # pkg info\n",
    "%run ~/L8733/src/pro/par/pyt/magic/fDocumentation.py # doc info"
   ]
  },
  {
   "cell_type": "markdown",
   "metadata": {},
   "source": [
    "< [GMIT Data Analytics](https://web.archive.org/web/20201029063153/https://www.gmit.ie/computer-science-and-applied-physics/higher-diploma-science-computing-data-analytics-ict) | [Table of Contents](https://github.com/E6985) | [README](https://github.com/E6985/fda-data/blob/main/README.md) >\n",
    "\n",
    "![GMIT](https://github.com/E6985/pda-numpy-random/blob/main/img/gmit.png?raw=true)\n",
    "\n",
    "## Fundamentals of Data Analysis - Course Material 2020\n",
    "### Topic: Data\n",
    "***"
   ]
  },
  {
   "cell_type": "markdown",
   "metadata": {},
   "source": [
    "Course material for the ``Fundamentals of Data Analysis`` module (5 Credits) of the ``Higher Diploma in Science in Computing (Data Analytics) (H.Dip)`` programme (75 Credits) at **Galway-Mayo Institute of Technology (GMIT)**."
   ]
  },
  {
   "cell_type": "markdown",
   "metadata": {},
   "source": [
    "<a id=\"top\"></a>\n",
    "< [README](https://github.com/E6985/fda-data/blob/main/README.md) | [References](#references) >\n",
    "\n",
    "## Table of Contents\n",
    "\n",
    "[Abstract](#abstract)\n",
    "\n",
    "###### Keywords: SPSS; scale; ordinal; nominal\n",
    "\n",
    "[Introduction](#introduction)\n",
    "\n",
    "###### Keywords: On the Theory of Scales of Measurement; quantitative; model; measurement\n",
    "\n",
    "[Solution](#solution)\n",
    "\n",
    "###### Keywords: inappropriate techniques; likert scale; numbers; average;  linear scale; measurement; category; nominal; ordinal; interval; ratio\n",
    "\n",
    "[Conclusion](#conclusion)\n",
    "\n",
    "###### Keywords: imperfect model; humans honest"
   ]
  },
  {
   "cell_type": "markdown",
   "metadata": {},
   "source": [
    "## END\n",
    "<!--\n",
    "< [Table of Contents](#top) | [Abstract](#abstract) | [Introduction](#introduction) | [Solution](#solution) | [Conclusion](#conclusion) | [References](#references) >\n",
    "<a id=\"status\"></a>\n",
    "***\n",
    "## Status\n",
    "***\n",
    "\n",
    "%%bash\n",
    "date \"+%Y-%m-%d\"\n",
    "\n",
    "< [todo](#todo) | [done](#done) >\n",
    "<a id=\"ongoing\"></a>\n",
    "###### ONGOING \n",
    "***\n",
    "\n",
    "< [ongoing](#ongoing) | [done](#done) >\n",
    "<a id=\"todo\"></a>\n",
    "###### TODO\n",
    "***\n",
    "\n",
    "< [todo](#todo) | [ongoing](#ongoing) >\n",
    "<a id=\"done\"></a>\n",
    "###### DONE\n",
    "***\n",
    "\n",
    "< [todo](#todo) | [ongoing](#ongoing) | [done](#done) >\n",
    "###### Functions\n",
    "***\n",
    "-->"
   ]
  },
  {
   "cell_type": "markdown",
   "metadata": {},
   "source": [
    "< [Table of Contents](#top) | [Abstract](#abstract) | [Introduction](#introduction) | [Solution](#solution) | [Conclusion](#conclusion) | [References](#references) >\n",
    "<a id=\"abstract\"></a>\n",
    "***\n",
    "## Abstract\n",
    "***"
   ]
  },
  {
   "cell_type": "markdown",
   "metadata": {},
   "source": [
    "- data - important to have a sense of context [1]"
   ]
  },
  {
   "cell_type": "markdown",
   "metadata": {},
   "source": [
    "- SPSS - software - statistical analysis - used in many different sciences - social - medical - involved in research - doctors - hospital - consultants - psychologists - economists - commonplace is the use of SPSS for investigation [1]\n",
    "\n",
    "\n",
    "- documentation - represents ways of - storing data - representing data - plus the different types of variables that might be involved - so these are the ideas that users may think in terms of how types of data might be - stored - recorded - used [1]\n",
    "\n",
    "\n",
    "- ideas about the different types of variables - types of data that people might want to analyse from a statistical - machine learning - data analysis point of view - numeric - string - date - time [1]\n",
    "\n",
    "\n",
    "- formats - categorise either being - scale - ordinal - nominal [1]\n",
    "\n",
    "\n",
    "<img src=\"img/spss.PNG\" />\n",
    "\n",
    "\n",
    "- SPSS - classification - different types of data - appears to have come from paper - On the Theory of Scales of Measurement - S.S. Stephens - 1946 - how different types of data might be - stored - recorded - used - the ideas have filtered through to the modern day [1]"
   ]
  },
  {
   "cell_type": "markdown",
   "metadata": {},
   "source": [
    "<!-- print(fGetModuleType(___x___),fDocumentation(___x___)) -->\n",
    "## END"
   ]
  },
  {
   "cell_type": "markdown",
   "metadata": {},
   "source": [
    "< [Table of Contents](#top) | [Abstract](#abstract) | [Introduction](#introduction) | [Solution](#solution) | [Conclusion](#conclusion) | [References](#references) >\n",
    "<a id=\"introduction\"></a>\n",
    "***\n",
    "## Introduction\n",
    "***"
   ]
  },
  {
   "cell_type": "markdown",
   "metadata": {},
   "source": [
    "- paper - On the Theory of Scales of Measurement - presents a history of doing things quantitatively - committee set up to report upon **\"the possibility of quantitative estimates of sensory events\"** [1]"
   ]
  },
  {
   "cell_type": "markdown",
   "metadata": {},
   "source": [
    "- quantitative - distinct to - qualitative - doing investigations - any sort of data analysis - machine learning - often a distinction made between - quantitative work - qualitative work [1]"
   ]
  },
  {
   "cell_type": "markdown",
   "metadata": {},
   "source": [
    "- qualitative work - interview people - desk based research - output collected is not really numeric - does not have the ideas of counting or taking measurement [1]"
   ]
  },
  {
   "cell_type": "markdown",
   "metadata": {},
   "source": [
    "- quantitative - takes the view that things in the world should be measured - world should be investigated by collecting datasets full of numbers - maybe strings that come in a specific format [1]"
   ]
  },
  {
   "cell_type": "markdown",
   "metadata": {},
   "source": [
    "- python libraries - MATLAB - maple - any numerical software - statistical - machine learning - may have such a table as the SPSS representation of types of variables - numeric - string - date - time - and associated formats - categorised - scale - ordinal - nominal - considered a truth about the world - the world is designed to have these kinds of variables - but this is not true - somebody just came up with the idea that these would be the types of variables [1]\n",
    "\n",
    "\n",
    "- model selected of the types of data can have might be wrong - might not perfectly represent reality - might catch all of the ways to pick data in order to measure things - just someones ideas albeit well considered - come from experience [1]"
   ]
  },
  {
   "cell_type": "markdown",
   "metadata": {},
   "source": [
    "- numerals can be assigned under different rules leading to different kinds of scales and different kinds of measurement - measuring the office floor - measured own height - surveys - manufacturing process - might not have considered that there are different types of measurement - there are different types of numbers - might not have thought about the different types in much detail - types appear in programming languages - integers - floating point numbers - strings - all are different types in programming languages\n",
    "[1]\n",
    "\n",
    "\n",
    "- important to consider when measuring something in the world - what would be the appropriate way to measure it - what are the appropriate values that the measurement could take on - measuring the office floor area - some sort of numeric value that might have decimal places - metres - is appropriate [1]\n",
    "\n",
    "\n",
    "- in constrast - doing a survey of the mix of cars observed at a crossing - would not be a numeric variable being captured - capturing a name - toyota - bmw - appear obvious but when it comes to data analysis unfortunately - intuition predictably can catch one out when not considering things close enough - can end up measuring things in an inappropriate way - realising once all measurements are captured - time spent - wasted weeks/months/years - might be measuring in the wrong way - happens to companies all the time - start with a new software system - all employees input lots of different things - insurance company - maybe input all the policy details - manufacturing company - maybe input all of the different dimensions of the product - retail business - maybe input all the different products - collecting all this information but do not think enough about what is required ahead of time - not think about the types of measurements they are doing when they actually want to get some insight out of all the data that they have collected - turns out either - it is very hard - it is actually impossible to get what they want out of the data that they have collected - happens all the time - people in research - doing statistics related to some medical - manufacturing - researchers love to do is get going with project - get out there and measure everything - then work out the statistics afterwards - always the latter never works [1]"
   ]
  },
  {
   "cell_type": "markdown",
   "metadata": {},
   "source": [
    "## END"
   ]
  },
  {
   "cell_type": "markdown",
   "metadata": {},
   "source": [
    "< [Table of Contents](#top) | [Abstract](#abstract) | [Introduction](#introduction) | [Solution](#solution) | [Conclusion](#conclusion) | [References](#references) >\n",
    "<a id=\"solution\"></a>\n",
    "***\n",
    "## Solution\n",
    "### Table of Contents\n",
    "\n",
    "* [Measurement vs Category](#measurement-vs-category)\n",
    "    * [Nominal - Categorical](#nominal-categorical)\n",
    "    * [Ordinal - Categorical](#ordinal-categorical)\n",
    "    * [Interval](#interval)\n",
    "    * [Ratio](#ratio)\n",
    "***"
   ]
  },
  {
   "cell_type": "markdown",
   "metadata": {},
   "source": [
    "< [Table of Contents](#solution) | [References](#references) >\n",
    "<a id=\"measurement-vs-category\"></a>\n",
    "###### Measurement vs Category\n",
    "***"
   ]
  },
  {
   "cell_type": "markdown",
   "metadata": {},
   "source": [
    "- paper - is trying to make sure that when people are developing new techniques for analysing data - whether - machine learning technique - data analytics technique - some sort of statistical technique - trying to avoid people using inappropriate techniques on a given data set [1]"
   ]
  },
  {
   "cell_type": "markdown",
   "metadata": {},
   "source": [
    "- common in a survey - likert scale - best colour of a car is black - ask people to rate things on a scale of one to seven - opinion - rate on a scale of one to seven  - one - strongly disagrees - seven - strongly agree - or everything in between - somewhat agree - somewhat disagree - whether one agrees with that statement or not - seems the researcher will get a number [1]\n",
    "\n",
    "\n",
    "- particiant provides - three on the scale - another particiant provides - two on the scale - another particant provides - seven on the scale - might be inappropriate to take all of the numbers that particiants have given and take average - 4.2 - suggest a midpoint - given this is the average may concluding that people generally do not really care about whether a car is black or not but there seems to be a slight positive - people do you think that black is the best colour - might be totally inappropriate [1]\n",
    "\n",
    "\n",
    "- like most numbers - one to seven - do not mean anything - just points on the scale made up by the researcher [1]\n",
    "\n",
    "\n",
    "- measuring heights - 100 - people - average height - means something - real physical quantities that were are not just invented - idea of a metre/foot was invented - getting the average height of 100 people is a real world value [1]\n",
    "\n",
    "\n",
    "- taking the average of the one to seven scale - might not be appropriate at all - the idea for having different scales of measurement - its about getting researchers to think about the difference between measurement and maybe just nominating a certain category [1]\n",
    "\n",
    "\n",
    "- a scale of one to seven - suggest that things are ordered - researcher should ask - is the jump from six to seven - from agree to strongly agree - is that the same as the jump from five to six - is it a linear scale - is the distance between five and six the same as the distance between six and seven - think about them as numbers but the numbers are just placeholders for the ideas the researcher has - so maybe the difference between somewhat agree and agreed is not the same as the difference between agree and strongly agree - maybe strongly agree is much bigger claim than agree [1]"
   ]
  },
  {
   "cell_type": "markdown",
   "metadata": {},
   "source": [
    "- SPSS - paper - same terminology - can figure out why SPSS thinks of data in this way [1]"
   ]
  },
  {
   "cell_type": "markdown",
   "metadata": {},
   "source": [
    "<img src=\"img/stevens-table.png\" />"
   ]
  },
  {
   "cell_type": "markdown",
   "metadata": {},
   "source": [
    "- nominal - ordinal - generally categorical variables [1]"
   ]
  },
  {
   "cell_type": "markdown",
   "metadata": {},
   "source": [
    "< [Table of Contents](#solution) | [References](#references) >\n",
    "<a id=\"nominal-categorical\"></a>\n",
    "###### Nominal - Categorical\n",
    "***"
   ]
  },
  {
   "cell_type": "markdown",
   "metadata": {},
   "source": [
    "- nominal variable - car - keep track of all makes of cars that are passing at a crossroad - nominate one of the categories - kind of a categorical variable - there is no order - could elect to order the cars in alphabetical order - bmw - come before - toyota - not a natural order - these names are just things that the manufacturers invented for their make of car - no natural order to nominal variables - string variables - could assign numbers in some sort of systematic way - would not make those numbers mean anything - still just categories nominated that do not have any natural order [1]"
   ]
  },
  {
   "cell_type": "markdown",
   "metadata": {},
   "source": [
    "<img src=\"img/nominal.png\" />"
   ]
  },
  {
   "cell_type": "markdown",
   "metadata": {},
   "source": [
    "< [Table of Contents](#solution) | [References](#references) >\n",
    "<a id=\"ordinal-categorical\"></a>\n",
    "###### Ordinal Categorical\n",
    "***"
   ]
  },
  {
   "cell_type": "markdown",
   "metadata": {},
   "source": [
    "- ordinal variable - some variables are like nominal variables but do have an order - likert scale - scale of strongly disagree or strongly agree - seem to have a natural ordering implied in the scale - can go from strongly disagree all the way up to strongly agree - reasonable person would be able to put the other categories such as agree and somewhat agree - no opinion - somewhat disagree - disagree - into an order that will be known implicitly - human beings are aware of these sorts of ideas - important not to mistake for actually being any real world - real measurement - that could do in the world [1]\n",
    "\n",
    "\n",
    "- height of somebody - something - not mistake as ordinal variables compared to nominal variables for having any sort of ubiquitous real world ordering - ordinal variables are like taking nominal variables and putting an order on both - order alphabetically - likert scale - strongly disagree to strongly agree scale - could switch it around and put it in decreasing order of agreement -  one - strongly agree - five - strongly disagree - does not really change much - everything is still going to be in order - just flip the order - technically there are two different orderings - one is good - in some human sense increasing in agreement - the other is decreasing in agreement - its just an order that the researcher has placed on them [1]"
   ]
  },
  {
   "cell_type": "markdown",
   "metadata": {},
   "source": [
    "<img src=\"img/ordinal.png\" />"
   ]
  },
  {
   "cell_type": "markdown",
   "metadata": {},
   "source": [
    "< [Table of Contents](#solution) | [References](#references) >\n",
    "<a id=\"interval\"></a>\n",
    "###### Interval\n",
    "***"
   ]
  },
  {
   "cell_type": "markdown",
   "metadata": {},
   "source": [
    "- interval variable - successive points in the scale are equally spaced - likert scale - ordinal variable of strongly disagree to strongly agree - is the difference between agree and strongly agree the same as the difference between somewhat agree and agree - nebulous - some people say yes - some people say no - no reality to it - researcher - should advise whether this is the case or not [1]\n",
    "\n",
    "\n",
    "- in an interval - some sort of numerical variable typically - the distances between the points on the scale are linear in the sense that if counting things - the difference between one and two - two and three - is the same - explanations for variables are becoming a little bit less satisfactory - becoming a little bit looser - not giving the ground truth of what an interval variable is given that there is no reality to this model of a variable - only reason variables are split into these four categories - nominal - ordinal - interval - ratio - subset of variables - categories - is for humans - to tell humans think about when collecting data - is this more like a nominal variable or an ordinal variable or an interval variable or a ratio variable - in addition the paper highlights the permissible sort of techniques that can be used on collections of those types of variables [1]"
   ]
  },
  {
   "cell_type": "markdown",
   "metadata": {},
   "source": [
    "<img src=\"img/interval.png\" />"
   ]
  },
  {
   "cell_type": "markdown",
   "metadata": {},
   "source": [
    "< [Table of Contents](#solution) | [References](#references) >\n",
    "<a id=\"ratio\"></a>\n",
    "###### Ratio\n",
    "***"
   ]
  },
  {
   "cell_type": "markdown",
   "metadata": {},
   "source": [
    "- ratio variable - like interval variables - except have proper zero points - which means that zero means zero - counting number of cars in the carpark - zero cars - obvious - means zero number of cars observed - be careful with data - sounds so obvious - zero means zero - in the real world - common in Ireland - temperature type variable is celsius degrees centigrade - zero degrees celsius does not mean zero temperature - it does not mean zero heat [1]"
   ]
  },
  {
   "cell_type": "markdown",
   "metadata": {},
   "source": [
    "<img src=\"img/ratio.png\" />"
   ]
  },
  {
   "cell_type": "markdown",
   "metadata": {},
   "source": [
    "- something like -273.15 degrees celsius is absolute zero - zero heat - not possible albeit can get very close to it - so zero degrees celsius does not stop there - when the temperature goes to zero - weather forecaster - not correct to say cannot go any lower than that - minus one degree - minus two degrees - so zero does not really mean zero - not a ratio variable - whereas degrees kelvin is - possible to go below zero – at least not in the sense of getting colder than zero kelvin - no heat left [1]"
   ]
  },
  {
   "cell_type": "markdown",
   "metadata": {},
   "source": [
    "<img src=\"img/kelvin.png\" />"
   ]
  },
  {
   "cell_type": "markdown",
   "metadata": {},
   "source": [
    "<!-- print(fGetModuleType(___x___),fDocumentation(___x___)) -->\n",
    "## END"
   ]
  },
  {
   "cell_type": "markdown",
   "metadata": {},
   "source": [
    "< [Table of Contents](#top) | [Abstract](#abstract) | [Introduction](#introduction) | [Solution](#solution) | [Conclusion](#conclusion) | [References](#references) >\n",
    "<a id=\"conclusion\"></a>\n",
    "## Conclusion\n",
    "***"
   ]
  },
  {
   "cell_type": "markdown",
   "metadata": {},
   "source": [
    "- takes the magic out of the ideas when talking about different types of variables used in commerical software - when a researcher is requesting help - data analytics - machine learning - can be familiar with what they are talking about - important - they do not have any particular insight into the world - types of variables - different pieces of software used - same with programming languages like python - the difference between floating point numbers and integers - is there any significant real world difference between those ideas - is an imperfect model of the types of data that might want to collect or might want to work with in the future - is an imperfect model of the world [1]"
   ]
  },
  {
   "cell_type": "markdown",
   "metadata": {},
   "source": [
    "- all models are imperfect - this is what it means essentially to be a model - all of these ideas about types of data - different formats for variables - somebody came up with this - in the paper - very straightforward in explaining - how the people he is talking about came up with them - seems logical - seems straightforward - very clear about the limitations of these types of measurements - not saying there is any sort of independent basis in reality for these types of variables - just a model - a system - most of it is designed to keep humans honest - make sure that humans are not abusing statistical techniques - data analysis techniques - using inappropriate statistical techniques for the type of data that they have - trying to find a common understanding amongst different people - to make sure that we can all have confidence in different analysis that different people do [1]"
   ]
  },
  {
   "cell_type": "markdown",
   "metadata": {},
   "source": [
    "## END"
   ]
  },
  {
   "cell_type": "markdown",
   "metadata": {},
   "source": [
    "< [Table of Contents](#top) | [Abstract](#abstract) | [Introduction](#introduction) | [Solution](#solution) | [Conclusion](#conclusion) | [References](#references) >\n",
    "<a id=\"references\"></a>\n",
    "***\n",
    "## References\n",
    "***\n",
    "&nbsp;&nbsp;&nbsp;&nbsp;&nbsp;&nbsp;&nbsp;&nbsp;&nbsp;[1] I. McLoughlin, \"Stevens on Scales of Measurement,\" GMIT, September 2020.\n",
    "<!--\n",
    "&nbsp;&nbsp;&nbsp;&nbsp;&nbsp;&nbsp;&nbsp;[10] Anaconda (xxx), \"xxx.xxx.xxx,\" Docstring, Version x.x.x.\n",
    "-->\n",
    "***"
   ]
  },
  {
   "cell_type": "markdown",
   "metadata": {},
   "source": [
    "## END"
   ]
  },
  {
   "cell_type": "markdown",
   "metadata": {},
   "source": [
    "# END JUPYTER NOTEBOOK"
   ]
  }
 ],
 "metadata": {
  "kernelspec": {
   "display_name": "Python 3",
   "language": "python",
   "name": "python3"
  },
  "language_info": {
   "codemirror_mode": {
    "name": "ipython",
    "version": 3
   },
   "file_extension": ".py",
   "mimetype": "text/x-python",
   "name": "python",
   "nbconvert_exporter": "python",
   "pygments_lexer": "ipython3",
   "version": "3.8.3"
  }
 },
 "nbformat": 4,
 "nbformat_minor": 4
}
